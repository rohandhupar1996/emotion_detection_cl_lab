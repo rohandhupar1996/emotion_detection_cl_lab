{
 "cells": [
  {
   "cell_type": "code",
   "execution_count": 2,
   "id": "1cef85e1",
   "metadata": {},
   "outputs": [],
   "source": [
    "import pandas as pd\n",
    "\n",
    "class TextDataProcessor:\n",
    "    def __init__(self, file_path):\n",
    "        self.file_path = file_path\n",
    "        self.df = None\n",
    "        self.emotion_columns = [\n",
    "            'Anger yes / no', 'Anticipation yes / no', 'Disgust yes / no',\n",
    "            'Fear yes / no', 'Joy yes / no', 'Sadness yes / no',\n",
    "            'Surprise yes / no', 'Trust yes / no'\n",
    "        ]\n",
    "\n",
    "    def load_data(self):\n",
    "        self.df = pd.read_csv(self.file_path)\n",
    "        self.df.replace('---', pd.NA, inplace=True)\n",
    "\n",
    "    def preprocess_text(self):\n",
    "        self.df['Text'] = self.df['Text'].str.lower()\n",
    "        self.df['Text'] = self.df['Text'].str.replace(r'http\\S+', '', regex=True)\n",
    "        self.df['Text'] = self.df['Text'].str.replace(r'@\\w+', '', regex=True)\n",
    "        self.df['Text'] = self.df['Text'].str.replace(r'#\\w+', '', regex=True)\n",
    "        self.df['Text'] = self.df['Text'].str.replace(r'[^\\w\\s]', '', regex=True)\n",
    "        self.df['Text'] = self.df['Text'].str.replace(r'\\s+', ' ', regex=True)\n",
    "        self.df['Text'] = self.df['Text'].str.strip()\n",
    "\n",
    "    def convert_emotions_to_binary(self):\n",
    "        for column in self.emotion_columns:\n",
    "            self.df[column] = self.df[column].notna().astype(int)\n",
    "\n",
    "    def get_data(self):\n",
    "        return self.df\n"
   ]
  },
  {
   "cell_type": "code",
   "execution_count": null,
   "id": "3f04680c",
   "metadata": {},
   "outputs": [],
   "source": [
    "# Assuming the file path is set correctly\n",
    "file_path = '/mnt/data/train_3.csv'\n",
    "processor = TextDataProcessor(file_path)\n",
    "processor.load_data()\n",
    "processor.preprocess_text()\n",
    "processor.convert_emotions_to_binary()\n",
    "tfidf_df = processor.apply_tfidf()\n",
    "\n",
    "tfidf_df.head()"
   ]
  }
 ],
 "metadata": {
  "kernelspec": {
   "display_name": "Python 3 (ipykernel)",
   "language": "python",
   "name": "python3"
  },
  "language_info": {
   "codemirror_mode": {
    "name": "ipython",
    "version": 3
   },
   "file_extension": ".py",
   "mimetype": "text/x-python",
   "name": "python",
   "nbconvert_exporter": "python",
   "pygments_lexer": "ipython3",
   "version": "3.10.13"
  }
 },
 "nbformat": 4,
 "nbformat_minor": 5
}
